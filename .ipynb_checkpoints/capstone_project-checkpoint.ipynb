{
 "cells": [
  {
   "cell_type": "markdown",
   "metadata": {},
   "source": [
    "## Elo Merchant Category Recommendation\n",
    "### Supervised Learning: Predict customer loyalty given credit card transactions data"
   ]
  },
  {
   "cell_type": "markdown",
   "metadata": {},
   "source": [
    "----\n",
    "**Project Overview**\n",
    "Elo is a payment solution in Brazil, who partners with merchants to offer promotions to cardholders. Elo adds value to the merchants and the cardholders when the cardholders gets the discounts they highly value and end up spending with the merchants, who will see an increase in revenue. Therefore, it\n",
    "s highly important to provide targeted promotions to the most relevant group of cardholders. One dimension to segment cardholder is based on loyalty score, and Elo has called for the data science community on Kaggle to help predict customer loyalty score given historical credit card transactions data. \n",
    "\n",
    "**Problem Statement**\n",
    "This project's goal is to predict credit card id level loyalty score given historical credit card transations. It is unclear how customer loyalty is defined, but given the dataset, it's a numeric value centered around 0. It likely represents a score, the higher means there is more value associated with the customer. It can also represent the predicted revenue that will come from the customer in a future period given information on historical transactions.To work towards a solution, the first step is to identify what features associated with the card owner and historical transactions are most impactful on the loyalty score. A good starting hypothesis is that high spenders, frequent spenders, spenders that don't get transactions declined, buyers of certain goodies, in certain geo locations, longer-term card holders, etc. are more likely to have higher customer loyalty. After the feature engineering stage, the next step is to empirically evaluate which features are highly relevant for the model. Regression models are likely good options, since the desired output is a continuous numeric loyalty score.\n",
    "\n",
    "**Success Metric**\n",
    "Elo provides a test dataset with a target customer loyalty score, serving as the \"ground truth\". The goal is to minimize the root mean sqaured error, which compares the predicted loyalty score for each card_id and the actual loyalty score assigned to the card_id."
   ]
  },
  {
   "cell_type": "code",
   "execution_count": 69,
   "metadata": {},
   "outputs": [],
   "source": [
    "import pandas as pd\n",
    "import numpy as np\n",
    "import sys\n",
    "def read_csv(file):\n",
    "    return pd.read_csv(r'/Users/anxia/Documents/mlnd_capstone_data/' + file)\n",
    "\n",
    "import seaborn as sns\n",
    "sns.set_style('white')\n",
    "\n",
    "import datetime\n",
    "from time import time\n",
    "from IPython.display import display # Allows the use of display() for DataFrames\n",
    "import matplotlib.pyplot as plt\n",
    "\n",
    "# Pretty display for notebooks\n",
    "%matplotlib inline"
   ]
  },
  {
   "cell_type": "markdown",
   "metadata": {},
   "source": [
    "----\n",
    "## Exploring the data"
   ]
  },
  {
   "cell_type": "code",
   "execution_count": 3,
   "metadata": {},
   "outputs": [],
   "source": [
    "train = read_csv(r'train.csv')\n",
    "historical_transactions = read_csv(r'historical_transactions.csv')\n",
    "new_merchant_transactions = read_csv(r'new_merchant_transactions.csv')\n",
    "merchants = read_csv(r'merchants.csv')\n",
    "test = read_csv(r'test.csv')"
   ]
  },
  {
   "cell_type": "code",
   "execution_count": 4,
   "metadata": {},
   "outputs": [
    {
     "name": "stdout",
     "output_type": "stream",
     "text": [
      "Total number of records\n",
      "Training data: 201917\n",
      "Test data: 123623\n",
      "Historical transactions: 29112361\n",
      "New transactions: 1963031\n",
      "Merchants: 334696\n"
     ]
    }
   ],
   "source": [
    "# Number of records\n",
    "n_records_train = train.shape[0]\n",
    "n_records_test = test.shape[0]\n",
    "n_records_hist_trans = historical_transactions.shape[0]\n",
    "n_records_new_trans = new_merchant_transactions.shape[0]\n",
    "n_records_merchants = merchants.shape[0]\n",
    "\n",
    "print(\"Total number of records\")\n",
    "print(\"Training data: {}\".format(n_records_train))\n",
    "print(\"Test data: {}\".format(n_records_test))\n",
    "print(\"Historical transactions: {}\".format(n_records_hist_trans))\n",
    "print(\"New transactions: {}\".format(n_records_new_trans))\n",
    "print(\"Merchants: {}\".format(n_records_merchants))"
   ]
  },
  {
   "cell_type": "code",
   "execution_count": 122,
   "metadata": {},
   "outputs": [
    {
     "name": "stdout",
     "output_type": "stream",
     "text": [
      "Train\n"
     ]
    },
    {
     "data": {
      "text/html": [
       "<div>\n",
       "<style scoped>\n",
       "    .dataframe tbody tr th:only-of-type {\n",
       "        vertical-align: middle;\n",
       "    }\n",
       "\n",
       "    .dataframe tbody tr th {\n",
       "        vertical-align: top;\n",
       "    }\n",
       "\n",
       "    .dataframe thead th {\n",
       "        text-align: right;\n",
       "    }\n",
       "</style>\n",
       "<table border=\"1\" class=\"dataframe\">\n",
       "  <thead>\n",
       "    <tr style=\"text-align: right;\">\n",
       "      <th></th>\n",
       "      <th>first_active_month</th>\n",
       "      <th>card_id</th>\n",
       "      <th>feature_1</th>\n",
       "      <th>feature_2</th>\n",
       "      <th>feature_3</th>\n",
       "      <th>target</th>\n",
       "      <th>elapsed_time</th>\n",
       "      <th>target_win</th>\n",
       "    </tr>\n",
       "  </thead>\n",
       "  <tbody>\n",
       "    <tr>\n",
       "      <th>0</th>\n",
       "      <td>2017-06-01</td>\n",
       "      <td>C_ID_92a2005557</td>\n",
       "      <td>5</td>\n",
       "      <td>2</td>\n",
       "      <td>1</td>\n",
       "      <td>-0.820283</td>\n",
       "      <td>245</td>\n",
       "      <td>-0.820283</td>\n",
       "    </tr>\n",
       "  </tbody>\n",
       "</table>\n",
       "</div>"
      ],
      "text/plain": [
       "  first_active_month          card_id  feature_1  feature_2  feature_3  \\\n",
       "0         2017-06-01  C_ID_92a2005557          5          2          1   \n",
       "\n",
       "     target  elapsed_time  target_win  \n",
       "0 -0.820283           245   -0.820283  "
      ]
     },
     "metadata": {},
     "output_type": "display_data"
    },
    {
     "name": "stdout",
     "output_type": "stream",
     "text": [
      "Historical Transactions\n"
     ]
    },
    {
     "data": {
      "text/html": [
       "<div>\n",
       "<style scoped>\n",
       "    .dataframe tbody tr th:only-of-type {\n",
       "        vertical-align: middle;\n",
       "    }\n",
       "\n",
       "    .dataframe tbody tr th {\n",
       "        vertical-align: top;\n",
       "    }\n",
       "\n",
       "    .dataframe thead th {\n",
       "        text-align: right;\n",
       "    }\n",
       "</style>\n",
       "<table border=\"1\" class=\"dataframe\">\n",
       "  <thead>\n",
       "    <tr style=\"text-align: right;\">\n",
       "      <th></th>\n",
       "      <th>authorized_flag</th>\n",
       "      <th>card_id</th>\n",
       "      <th>city_id</th>\n",
       "      <th>category_1</th>\n",
       "      <th>installments</th>\n",
       "      <th>category_3</th>\n",
       "      <th>merchant_category_id</th>\n",
       "      <th>merchant_id</th>\n",
       "      <th>month_lag</th>\n",
       "      <th>purchase_amount</th>\n",
       "      <th>purchase_date</th>\n",
       "      <th>category_2</th>\n",
       "      <th>state_id</th>\n",
       "      <th>subsector_id</th>\n",
       "    </tr>\n",
       "  </thead>\n",
       "  <tbody>\n",
       "    <tr>\n",
       "      <th>0</th>\n",
       "      <td>Y</td>\n",
       "      <td>C_ID_4e6213e9bc</td>\n",
       "      <td>88</td>\n",
       "      <td>N</td>\n",
       "      <td>0</td>\n",
       "      <td>A</td>\n",
       "      <td>80</td>\n",
       "      <td>M_ID_e020e9b302</td>\n",
       "      <td>-8</td>\n",
       "      <td>-0.703331</td>\n",
       "      <td>2017-06-25 15:33:07</td>\n",
       "      <td>1.0</td>\n",
       "      <td>16</td>\n",
       "      <td>37</td>\n",
       "    </tr>\n",
       "  </tbody>\n",
       "</table>\n",
       "</div>"
      ],
      "text/plain": [
       "  authorized_flag          card_id  city_id category_1  installments  \\\n",
       "0               Y  C_ID_4e6213e9bc       88          N             0   \n",
       "\n",
       "  category_3  merchant_category_id      merchant_id  month_lag  \\\n",
       "0          A                    80  M_ID_e020e9b302         -8   \n",
       "\n",
       "   purchase_amount        purchase_date  category_2  state_id  subsector_id  \n",
       "0        -0.703331  2017-06-25 15:33:07         1.0        16            37  "
      ]
     },
     "metadata": {},
     "output_type": "display_data"
    },
    {
     "name": "stdout",
     "output_type": "stream",
     "text": [
      "New Merchant Transactions\n"
     ]
    },
    {
     "data": {
      "text/html": [
       "<div>\n",
       "<style scoped>\n",
       "    .dataframe tbody tr th:only-of-type {\n",
       "        vertical-align: middle;\n",
       "    }\n",
       "\n",
       "    .dataframe tbody tr th {\n",
       "        vertical-align: top;\n",
       "    }\n",
       "\n",
       "    .dataframe thead th {\n",
       "        text-align: right;\n",
       "    }\n",
       "</style>\n",
       "<table border=\"1\" class=\"dataframe\">\n",
       "  <thead>\n",
       "    <tr style=\"text-align: right;\">\n",
       "      <th></th>\n",
       "      <th>authorized_flag</th>\n",
       "      <th>card_id</th>\n",
       "      <th>city_id</th>\n",
       "      <th>category_1</th>\n",
       "      <th>installments</th>\n",
       "      <th>category_3</th>\n",
       "      <th>merchant_category_id</th>\n",
       "      <th>merchant_id</th>\n",
       "      <th>month_lag</th>\n",
       "      <th>purchase_amount</th>\n",
       "      <th>purchase_date</th>\n",
       "      <th>category_2</th>\n",
       "      <th>state_id</th>\n",
       "      <th>subsector_id</th>\n",
       "    </tr>\n",
       "  </thead>\n",
       "  <tbody>\n",
       "    <tr>\n",
       "      <th>0</th>\n",
       "      <td>Y</td>\n",
       "      <td>C_ID_415bb3a509</td>\n",
       "      <td>107</td>\n",
       "      <td>N</td>\n",
       "      <td>1</td>\n",
       "      <td>B</td>\n",
       "      <td>307</td>\n",
       "      <td>M_ID_b0c793002c</td>\n",
       "      <td>1</td>\n",
       "      <td>-0.557574</td>\n",
       "      <td>2018-03-11 14:57:36</td>\n",
       "      <td>1.0</td>\n",
       "      <td>9</td>\n",
       "      <td>19</td>\n",
       "    </tr>\n",
       "  </tbody>\n",
       "</table>\n",
       "</div>"
      ],
      "text/plain": [
       "  authorized_flag          card_id  city_id category_1  installments  \\\n",
       "0               Y  C_ID_415bb3a509      107          N             1   \n",
       "\n",
       "  category_3  merchant_category_id      merchant_id  month_lag  \\\n",
       "0          B                   307  M_ID_b0c793002c          1   \n",
       "\n",
       "   purchase_amount        purchase_date  category_2  state_id  subsector_id  \n",
       "0        -0.557574  2018-03-11 14:57:36         1.0         9            19  "
      ]
     },
     "metadata": {},
     "output_type": "display_data"
    },
    {
     "name": "stdout",
     "output_type": "stream",
     "text": [
      "Merchants\n"
     ]
    },
    {
     "data": {
      "text/html": [
       "<div>\n",
       "<style scoped>\n",
       "    .dataframe tbody tr th:only-of-type {\n",
       "        vertical-align: middle;\n",
       "    }\n",
       "\n",
       "    .dataframe tbody tr th {\n",
       "        vertical-align: top;\n",
       "    }\n",
       "\n",
       "    .dataframe thead th {\n",
       "        text-align: right;\n",
       "    }\n",
       "</style>\n",
       "<table border=\"1\" class=\"dataframe\">\n",
       "  <thead>\n",
       "    <tr style=\"text-align: right;\">\n",
       "      <th></th>\n",
       "      <th>merchant_id</th>\n",
       "      <th>merchant_group_id</th>\n",
       "      <th>merchant_category_id</th>\n",
       "      <th>subsector_id</th>\n",
       "      <th>numerical_1</th>\n",
       "      <th>numerical_2</th>\n",
       "      <th>category_1</th>\n",
       "      <th>most_recent_sales_range</th>\n",
       "      <th>most_recent_purchases_range</th>\n",
       "      <th>avg_sales_lag3</th>\n",
       "      <th>...</th>\n",
       "      <th>avg_sales_lag6</th>\n",
       "      <th>avg_purchases_lag6</th>\n",
       "      <th>active_months_lag6</th>\n",
       "      <th>avg_sales_lag12</th>\n",
       "      <th>avg_purchases_lag12</th>\n",
       "      <th>active_months_lag12</th>\n",
       "      <th>category_4</th>\n",
       "      <th>city_id</th>\n",
       "      <th>state_id</th>\n",
       "      <th>category_2</th>\n",
       "    </tr>\n",
       "  </thead>\n",
       "  <tbody>\n",
       "    <tr>\n",
       "      <th>0</th>\n",
       "      <td>M_ID_838061e48c</td>\n",
       "      <td>8353</td>\n",
       "      <td>792</td>\n",
       "      <td>9</td>\n",
       "      <td>-0.057471</td>\n",
       "      <td>-0.057471</td>\n",
       "      <td>N</td>\n",
       "      <td>E</td>\n",
       "      <td>E</td>\n",
       "      <td>-0.4</td>\n",
       "      <td>...</td>\n",
       "      <td>-2.25</td>\n",
       "      <td>18.666667</td>\n",
       "      <td>6</td>\n",
       "      <td>-2.32</td>\n",
       "      <td>13.916667</td>\n",
       "      <td>12</td>\n",
       "      <td>N</td>\n",
       "      <td>242</td>\n",
       "      <td>9</td>\n",
       "      <td>1.0</td>\n",
       "    </tr>\n",
       "  </tbody>\n",
       "</table>\n",
       "<p>1 rows × 22 columns</p>\n",
       "</div>"
      ],
      "text/plain": [
       "       merchant_id  merchant_group_id  merchant_category_id  subsector_id  \\\n",
       "0  M_ID_838061e48c               8353                   792             9   \n",
       "\n",
       "   numerical_1  numerical_2 category_1 most_recent_sales_range  \\\n",
       "0    -0.057471    -0.057471          N                       E   \n",
       "\n",
       "  most_recent_purchases_range  avg_sales_lag3     ...      avg_sales_lag6  \\\n",
       "0                           E            -0.4     ...               -2.25   \n",
       "\n",
       "   avg_purchases_lag6  active_months_lag6  avg_sales_lag12  \\\n",
       "0           18.666667                   6            -2.32   \n",
       "\n",
       "   avg_purchases_lag12  active_months_lag12  category_4  city_id state_id  \\\n",
       "0            13.916667                   12           N      242        9   \n",
       "\n",
       "   category_2  \n",
       "0         1.0  \n",
       "\n",
       "[1 rows x 22 columns]"
      ]
     },
     "metadata": {},
     "output_type": "display_data"
    }
   ],
   "source": [
    "# Show an example of each dataset\n",
    "print(\"Train\")\n",
    "display(train.head(n = 1))\n",
    "print(\"Historical Transactions\")\n",
    "display(historical_transactions.head(n = 1))\n",
    "print(\"New Merchant Transactions\")\n",
    "display(new_merchant_transactions.head(n = 1))\n",
    "print(\"Merchants\")\n",
    "display(merchants.head(n = 1))"
   ]
  },
  {
   "cell_type": "code",
   "execution_count": 121,
   "metadata": {},
   "outputs": [
    {
     "data": {
      "text/plain": [
       "['authorized_flag',\n",
       " 'card_id',\n",
       " 'city_id',\n",
       " 'category_1',\n",
       " 'installments',\n",
       " 'category_3',\n",
       " 'merchant_category_id',\n",
       " 'merchant_id',\n",
       " 'month_lag',\n",
       " 'purchase_amount',\n",
       " 'purchase_date',\n",
       " 'category_2',\n",
       " 'state_id',\n",
       " 'subsector_id']"
      ]
     },
     "execution_count": 121,
     "metadata": {},
     "output_type": "execute_result"
    }
   ],
   "source": [
    "list(historical_transactions)"
   ]
  },
  {
   "cell_type": "markdown",
   "metadata": {},
   "source": [
    "** Features of interest **\n",
    "- Purchase amount: Total, L30, L60, L90, Average per transaction\n",
    "- Number of transactions: Total, L30, L60, L90\n",
    "- First active month: card tenure\n",
    "- Proportion of authorized/declined transactions\n",
    "- Transactions by categories\n",
    "- Transactions by merchants\n",
    "- Tranactions by state_id, city_id\n",
    "- Transactions by subsector_id\n",
    "- Total/proportion of transactions with installments"
   ]
  },
  {
   "cell_type": "code",
   "execution_count": 6,
   "metadata": {},
   "outputs": [
    {
     "data": {
      "text/plain": [
       "<matplotlib.axes._subplots.AxesSubplot at 0x10e5317b8>"
      ]
     },
     "execution_count": 6,
     "metadata": {},
     "output_type": "execute_result"
    },
    {
     "data": {
      "image/png": "[encoded data removed]",
      "text/plain": [
       "<matplotlib.figure.Figure at 0x1a22263898>"
      ]
     },
     "metadata": {},
     "output_type": "display_data"
    }
   ],
   "source": [
    "# Visualize target variable distribution\n",
    "train.target.hist(bins=50)"
   ]
  },
  {
   "cell_type": "markdown",
   "metadata": {},
   "source": [
    "**Explore target scores based on sample cards with: high, median, low, zero target scores**"
   ]
  },
  {
   "cell_type": "code",
   "execution_count": 7,
   "metadata": {},
   "outputs": [
    {
     "name": "stdout",
     "output_type": "stream",
     "text": [
      "Sample Card - High score\n",
      "total transactions: 72\n",
      "% of decline: 0.22\n"
     ]
    }
   ],
   "source": [
    "print(\"Sample Card - High score\")\n",
    "high_sample_hist_trans = historical_transactions[historical_transactions['card_id']=='C_ID_648406c4c7'].reset_index(drop=True)\n",
    "# display(high_sample_hist_trans.head(n=3))\n",
    "print('total transactions:', high_sample_hist_trans['purchase_date'].count() )\n",
    "print('% of decline:', round(high_sample_hist_trans[high_sample_hist_trans['authorized_flag']=='N']['purchase_date'].count()/high_sample_hist_trans['purchase_date'].count(),2))"
   ]
  },
  {
   "cell_type": "code",
   "execution_count": 8,
   "metadata": {},
   "outputs": [
    {
     "name": "stdout",
     "output_type": "stream",
     "text": [
      "Sample Card - Median score\n",
      "total transactions: 260\n",
      "% of decline: 0.05\n"
     ]
    }
   ],
   "source": [
    "print(\"Sample Card - Median score\")\n",
    "median_sample_hist_trans = historical_transactions[historical_transactions['card_id']=='C_ID_92a2005557'].reset_index(drop=True)\n",
    "# display(median_sample_hist_trans.head(n=3))\n",
    "print('total transactions:', median_sample_hist_trans['purchase_date'].count() )\n",
    "print('% of decline:', round(median_sample_hist_trans[median_sample_hist_trans['authorized_flag']=='N']['purchase_date'].count()/median_sample_hist_trans['purchase_date'].count(),2))"
   ]
  },
  {
   "cell_type": "code",
   "execution_count": 9,
   "metadata": {},
   "outputs": [
    {
     "name": "stdout",
     "output_type": "stream",
     "text": [
      "Sample Card - Low score\n",
      "total transactions: 40\n",
      "% of decline: 0.12\n"
     ]
    }
   ],
   "source": [
    "print(\"Sample Card - Low score\")\n",
    "low_sample_hist_trans = historical_transactions[historical_transactions['card_id']=='C_ID_c2ecf46526'].reset_index(drop=True)\n",
    "# display(low_sample_hist_trans.head(n=3))\n",
    "print('total transactions:', low_sample_hist_trans['purchase_date'].count() )\n",
    "print('% of decline:', round(low_sample_hist_trans[low_sample_hist_trans['authorized_flag']=='N']['purchase_date'].count()/low_sample_hist_trans['purchase_date'].count(),2))"
   ]
  },
  {
   "cell_type": "code",
   "execution_count": 10,
   "metadata": {},
   "outputs": [
    {
     "name": "stdout",
     "output_type": "stream",
     "text": [
      "Sample Card - Zero score\n",
      "total transactions: 81\n",
      "% of decline: 0.26\n"
     ]
    }
   ],
   "source": [
    "print(\"Sample Card - Zero score\")\n",
    "z_sample_hist_trans = historical_transactions[historical_transactions['card_id']=='C_ID_da5ae82b81'].reset_index(drop=True)\n",
    "# display(z_sample_hist_trans.head(n=3))\n",
    "print('total transactions:', z_sample_hist_trans['purchase_date'].count() )\n",
    "print('% of decline:', round(z_sample_hist_trans[z_sample_hist_trans['authorized_flag']=='N']['purchase_date'].count()/z_sample_hist_trans['purchase_date'].count(),2))"
   ]
  },
  {
   "cell_type": "markdown",
   "metadata": {},
   "source": [
    "**Observations**: \n",
    "- Initial inspections of a few sample card_ids shows that it's unclear whether a high target score is good or bad.\n",
    "- Histogram shows that outliers exist around target score -30. May want to winsorize."
   ]
  },
  {
   "cell_type": "markdown",
   "metadata": {},
   "source": [
    "----\n",
    "## Preparing the data"
   ]
  },
  {
   "cell_type": "code",
   "execution_count": 10,
   "metadata": {},
   "outputs": [],
   "source": [
    "# Feature engineering: train and test df\n",
    "# (1) Elapsed time\n",
    "train['first_active_month'] = pd.to_datetime(train['first_active_month'])\n",
    "test['first_active_month'] = pd.to_datetime(test['first_active_month'])\n",
    "\n",
    "# Identified date of evaluation is 2018-02-01 based on month_lag and purchase_date \n",
    "# in transactions data\n",
    "train['elapsed_time'] = (datetime.date(2018, 2, 1) - \n",
    "                         train['first_active_month'].dt.date).dt.days\n",
    "test['elapsed_time'] = (datetime.date(2018, 2, 1) - \n",
    "                        test['first_active_month'].dt.date).dt.days\n",
    "\n",
    "# (2) Winsorized train target (lower bound only)\n",
    "target_lb = train.target.quantile(.011) # lowest percentile for >-30 values\n",
    "train['target_win'] = train.target.apply(lambda x: target_lb if x <= target_lb else x)\n",
    "train_target = train['target_win']"
   ]
  },
  {
   "cell_type": "code",
   "execution_count": 74,
   "metadata": {},
   "outputs": [
    {
     "name": "stdout",
     "output_type": "stream",
     "text": [
      "Number of days elapsed since first_active_month till 2018-02-01\n"
     ]
    },
    {
     "data": {
      "text/plain": [
       "<matplotlib.legend.Legend at 0x1ab852c940>"
      ]
     },
     "execution_count": 74,
     "metadata": {},
     "output_type": "execute_result"
    },
    {
     "data": {
      "image/png": "[encoded data removed]",
      "text/plain": [
       "<matplotlib.figure.Figure at 0x1ab83174e0>"
      ]
     },
     "metadata": {},
     "output_type": "display_data"
    }
   ],
   "source": [
    "print('Number of days elapsed since first_active_month till 2018-02-01')\n",
    "train.elapsed_time.hist(bins=25)\n",
    "test.elapsed_time.hist(bins=25)\n",
    "ax=plt.gca()\n",
    "ax.legend(('train', 'test'))"
   ]
  },
  {
   "cell_type": "code",
   "execution_count": 11,
   "metadata": {},
   "outputs": [],
   "source": [
    "# Combine transactions data\n",
    "transactions = pd.concat([historical_transactions, new_merchant_transactions])"
   ]
  },
  {
   "cell_type": "code",
   "execution_count": 12,
   "metadata": {},
   "outputs": [],
   "source": [
    "transactions['authorized_flag'] = transactions['authorized_flag'].map({'Y':1, 'N': 0})\n",
    "transactions['category_1'] = transactions['category_1'].map({'Y':1, 'N': 0})"
   ]
  },
  {
   "cell_type": "code",
   "execution_count": 13,
   "metadata": {},
   "outputs": [],
   "source": [
    "# Create dummy columns\n",
    "transactions_d = pd.get_dummies(transactions, columns=['category_2', 'category_3'])"
   ]
  },
  {
   "cell_type": "code",
   "execution_count": 42,
   "metadata": {},
   "outputs": [
    {
     "name": "stdout",
     "output_type": "stream",
     "text": [
      "purchase_amount min and max:\n",
      "min: -0.7469078\n",
      "max: 6010603.9717525\n",
      "purchase_amount percentile:\n",
      "0.01   -0.743166\n",
      "0.25   -0.719905\n",
      "0.50   -0.687523\n",
      "0.75   -0.600865\n",
      "0.99    1.239597\n",
      "Name: purchase_amount, dtype: float64\n"
     ]
    }
   ],
   "source": [
    "# Explore purchase_amount data\n",
    "print('purchase_amount min and max:')\n",
    "print('min:', transactions_d.purchase_amount.min())\n",
    "print('max:', transactions_d.purchase_amount.max())\n",
    "\n",
    "print('purchase_amount percentile:')\n",
    "print(transactions_d.purchase_amount.quantile([.01, .25, .5, .75, .99]))"
   ]
  },
  {
   "cell_type": "code",
   "execution_count": 15,
   "metadata": {},
   "outputs": [],
   "source": [
    "# Winsorize purchase_amount to remove extreme outliers\n",
    "purchase_amount_lb = transactions_d.purchase_amount.quantile(.01)\n",
    "purchase_amount_ub = transactions_d.purchase_amount.quantile(.99)\n",
    "\n",
    "transactions_d['purchase_amount_win'] = transactions_d.purchase_amount.apply(\n",
    "    lambda x:  purchase_amount_lb if x <= purchase_amount_lb else(\n",
    "        purchase_amount_ub if x >= purchase_amount_ub else x\n",
    "    )\n",
    ")"
   ]
  },
  {
   "cell_type": "code",
   "execution_count": 16,
   "metadata": {},
   "outputs": [],
   "source": [
    "# Get purchase_month of each transactions\n",
    "transactions_d['purchase_month'] = transactions_d.purchase_date.apply(\n",
    "    lambda x: datetime.datetime.strptime(x, '%Y-%m-%d %H:%M:%S').month\n",
    ")"
   ]
  },
  {
   "cell_type": "code",
   "execution_count": 17,
   "metadata": {},
   "outputs": [],
   "source": [
    "# Collapse transaction level data to card_id level information\n",
    "df = (transactions_d.groupby('card_id').size().reset_index(name='transactions_count')) # Initiate df"
   ]
  },
  {
   "cell_type": "code",
   "execution_count": 18,
   "metadata": {},
   "outputs": [],
   "source": [
    "# Purchase amount [sum, mean] \n",
    "## Total \n",
    "temp_agg = transactions_d.groupby(['card_id'])['purchase_amount_win'].agg(['sum', 'mean'])\n",
    "temp_agg.columns = ['purchase_amount_sum', 'purchase_amount_mean']\n",
    "temp_agg.reset_index(inplace=True)\n",
    "df = pd.merge(df, temp_agg, on='card_id', how='left')\n",
    "\n",
    "## Last two months (month_lag >= 1) L60\n",
    "temp_agg = transactions_d[transactions_d['month_lag'] >= 1].groupby(['card_id'])['purchase_amount_win'].agg(['sum', 'mean'])\n",
    "temp_agg.columns = ['purchase_amount_sum_l60', 'purchase_amount_mean_l60']\n",
    "temp_agg.reset_index(inplace=True)\n",
    "df = pd.merge(df, temp_agg, on='card_id', how='left')\n",
    "\n",
    "## Last six months (month_lag between >= -3) L180\n",
    "temp_agg = transactions_d[transactions_d['month_lag'] >= -3].groupby(['card_id'])['purchase_amount_win'].agg(['sum', 'mean'])\n",
    "temp_agg.columns = ['purchase_amount_sum_l180', 'purchase_amount_mean_l180']\n",
    "temp_agg.reset_index(inplace=True)\n",
    "df = pd.merge(df, temp_agg, on='card_id', how='left')"
   ]
  },
  {
   "cell_type": "code",
   "execution_count": 19,
   "metadata": {},
   "outputs": [],
   "source": [
    "# Number of transactions [count]\n",
    "## Last two months (month_lag >= 1) L60\n",
    "temp_agg = transactions_d[transactions_d['month_lag'] >= 1].groupby(['card_id']).size().reset_index(name='transactions_count_l60')\n",
    "df = pd.merge(df, temp_agg, on='card_id', how='left')\n",
    "\n",
    "## Last six months (month_lag between >= -3) L180\n",
    "temp_agg = transactions_d[transactions_d['month_lag'] >= -3].groupby(['card_id']).size().reset_index(name='transactions_count_l180')\n",
    "df = pd.merge(df, temp_agg, on='card_id', how='left')"
   ]
  },
  {
   "cell_type": "code",
   "execution_count": 20,
   "metadata": {},
   "outputs": [],
   "source": [
    "# Authorized transactions [sum, mean]\n",
    "## Total \n",
    "temp_agg = transactions_d.groupby(['card_id'])['authorized_flag'].agg(['sum', 'mean'])\n",
    "temp_agg.columns = ['authorized_sum', 'authorized_mean']\n",
    "temp_agg.reset_index(inplace=True)\n",
    "df = pd.merge(df, temp_agg, on='card_id', how='left')\n",
    "\n",
    "## Last two months (month_lag >= 1) L60\n",
    "temp_agg = transactions_d[transactions_d['month_lag'] >= 1].groupby(['card_id'])['authorized_flag'].agg(['sum', 'mean'])\n",
    "temp_agg.columns = ['authorized_sum_l60', 'authorized_mean_l60']\n",
    "temp_agg.reset_index(inplace=True)\n",
    "df = pd.merge(df, temp_agg, on='card_id', how='left')\n",
    "\n",
    "## Last six months (month_lag between >= -3) L180\n",
    "temp_agg = transactions_d[transactions_d['month_lag'] >= -3].groupby(['card_id'])['authorized_flag'].agg(['sum', 'mean'])\n",
    "temp_agg.columns = ['authorized_sum_l180', 'authorized_mean_l180']\n",
    "temp_agg.reset_index(inplace=True)\n",
    "df = pd.merge(df, temp_agg, on='card_id', how='left')"
   ]
  },
  {
   "cell_type": "code",
   "execution_count": 21,
   "metadata": {},
   "outputs": [],
   "source": [
    "# Other features\n",
    "agg_func = {\n",
    "    'category_1': ['sum', 'mean'],\n",
    "    'category_2_1.0': ['sum', 'mean'],\n",
    "    'category_2_2.0': ['sum', 'mean'],\n",
    "    'category_2_3.0': ['sum', 'mean'],\n",
    "    'category_2_4.0': ['sum', 'mean'],\n",
    "    'category_2_5.0': ['sum', 'mean'],\n",
    "    'category_3_A': ['sum', 'mean'],\n",
    "    'category_3_B': ['sum', 'mean'],\n",
    "    'category_3_C': ['sum', 'mean'],\n",
    "    'installments': ['sum', 'mean', 'max', 'min', 'std'],    \n",
    "    'merchant_category_id': ['nunique'],\n",
    "    'merchant_id': ['nunique'],\n",
    "    'state_id': ['nunique'],\n",
    "    'city_id': ['nunique'],\n",
    "    'subsector_id': ['nunique'],\n",
    "    'purchase_amount_win': ['max', 'min', 'std'],\n",
    "    'purchase_month': ['mean', 'max', 'min', 'std'],\n",
    "    'purchase_date': ['min', 'max'],\n",
    "    'month_lag': ['min', 'max']\n",
    "}"
   ]
  },
  {
   "cell_type": "code",
   "execution_count": 22,
   "metadata": {},
   "outputs": [],
   "source": [
    "temp_agg = transactions_d.groupby(['card_id']).agg(agg_func)\n",
    "temp_agg.columns = ['_'.join(col).strip() for col in temp_agg.columns.values]\n",
    "temp_agg.reset_index(inplace=True)\n",
    "df = pd.merge(df, temp_agg, on='card_id', how='left')"
   ]
  },
  {
   "cell_type": "code",
   "execution_count": 48,
   "metadata": {},
   "outputs": [
    {
     "name": "stdout",
     "output_type": "stream",
     "text": [
      "authorized_mean percentile\n",
      "0.01    0.500000\n",
      "0.25    0.866667\n",
      "0.50    0.933333\n",
      "0.75    0.975000\n",
      "0.99    1.000000\n",
      "Name: authorized_mean, dtype: float64\n"
     ]
    },
    {
     "data": {
      "text/plain": [
       "<matplotlib.axes._subplots.AxesSubplot at 0x1ab47e8b38>"
      ]
     },
     "execution_count": 48,
     "metadata": {},
     "output_type": "execute_result"
    },
    {
     "data": {
      "image/png": "[encoded data removed]",
      "text/plain": [
       "<matplotlib.figure.Figure at 0x1ab4d68940>"
      ]
     },
     "metadata": {},
     "output_type": "display_data"
    }
   ],
   "source": [
    "print('authorized_mean percentile')\n",
    "print(df.authorized_mean.quantile([.01, .25, .5, .75, .99]))\n",
    "df.boxplot(column='authorized_mean')"
   ]
  },
  {
   "cell_type": "code",
   "execution_count": 23,
   "metadata": {},
   "outputs": [],
   "source": [
    "df_clean = df.fillna(0)"
   ]
  },
  {
   "cell_type": "code",
   "execution_count": 25,
   "metadata": {},
   "outputs": [],
   "source": [
    "# Generate dummies for train and test\n",
    "train_d = pd.get_dummies(train, columns=['feature_1', 'feature_2'])\n",
    "test_d = pd.get_dummies(test, columns=['feature_1', 'feature_2'])\n",
    "\n",
    "# Attach card summary stats to train and test data\n",
    "train_clean = pd.merge(train_d, df_clean, on='card_id', how='left')\n",
    "test_clean = pd.merge(test_d, df_clean, on='card_id', how='left')"
   ]
  },
  {
   "cell_type": "code",
   "execution_count": 26,
   "metadata": {},
   "outputs": [],
   "source": [
    "# Prepare data for modeling\n",
    "features_col = [c for c in train_clean.columns if c not in [\n",
    "    'first_active_month',\n",
    "    'card_id',\n",
    "    'target',\n",
    "    'target_win',\n",
    "    'purchase_date_min',\n",
    "    'purchase_date_max',\n",
    "]]\n",
    "\n",
    "features = train_clean[features_col].values\n",
    "labels = train_clean.target_win"
   ]
  },
  {
   "cell_type": "markdown",
   "metadata": {},
   "source": [
    "----\n",
    "### Shuffle and Split Data\n",
    "Split features and labels into training and test set"
   ]
  },
  {
   "cell_type": "code",
   "execution_count": 27,
   "metadata": {},
   "outputs": [
    {
     "name": "stdout",
     "output_type": "stream",
     "text": [
      "Training set has 161533 samples.\n",
      "Testing set has 40384 samples.\n"
     ]
    }
   ],
   "source": [
    "# Import train_test_split\n",
    "from sklearn.model_selection import train_test_split\n",
    "\n",
    "# Split the 'features' and 'income' data into training and testing sets\n",
    "X_train, X_test, y_train, y_test = train_test_split(features, \n",
    "                                                    labels, \n",
    "                                                    test_size = 0.2, \n",
    "                                                    random_state = 0)\n",
    "\n",
    "# Show the results of the split\n",
    "print(\"Training set has {} samples.\".format(X_train.shape[0]))\n",
    "print(\"Testing set has {} samples.\".format(X_test.shape[0]))"
   ]
  },
  {
   "cell_type": "markdown",
   "metadata": {},
   "source": [
    "### Benchmark: Naive Predictor Performance\n",
    "- Use root mean squared error (RMSE) to evaluate performance\n",
    "- For the naive model, use the training data mean score as the predicted score for the test data"
   ]
  },
  {
   "cell_type": "code",
   "execution_count": 28,
   "metadata": {},
   "outputs": [
    {
     "data": {
      "text/plain": [
       "2.2487432783994192"
      ]
     },
     "execution_count": 28,
     "metadata": {},
     "output_type": "execute_result"
    }
   ],
   "source": [
    "from sklearn.metrics import mean_squared_error\n",
    "y_pred = [y_train.mean()] * y_test.shape[0]\n",
    "mean_squared_error(y_test, y_pred) ** 0.5"
   ]
  },
  {
   "cell_type": "markdown",
   "metadata": {},
   "source": [
    "### Build model"
   ]
  },
  {
   "cell_type": "code",
   "execution_count": 75,
   "metadata": {},
   "outputs": [],
   "source": [
    "from sklearn.linear_model import LinearRegression\n",
    "from sklearn.ensemble import AdaBoostRegressor\n",
    "from sklearn.ensemble import GradientBoostingRegressor"
   ]
  },
  {
   "cell_type": "code",
   "execution_count": 76,
   "metadata": {},
   "outputs": [],
   "source": [
    "# Build a training and prediction pipeline\n",
    "def train_predict(learner, X_train, y_train, X_test, y_test): \n",
    "    '''\n",
    "    inputs:\n",
    "       - learner: the learning algorithm to be trained and predicted on\n",
    "       - X_train: features training set\n",
    "       - y_train: income training set\n",
    "       - X_test: features testing set\n",
    "       - y_test: income testing set\n",
    "    '''\n",
    "    \n",
    "    results = {}\n",
    "    \n",
    "    # Fit the learner to the training data\n",
    "    start = time() # Get start time\n",
    "    learner.fit(X_train, y_train)\n",
    "    end = time() # Get end time\n",
    "    \n",
    "    # Calculate the training time\n",
    "    results['train_time'] = end - start\n",
    "        \n",
    "    # Get the predictions on the test set(X_test) and train set (X_train) using .predict()\n",
    "    start = time() # Get start time\n",
    "    predictions_test = learner.predict(X_test)\n",
    "    predictions_train = learner.predict(X_train)\n",
    "    end = time() # Get end time\n",
    "    \n",
    "    # Calculate the total prediction time\n",
    "    results['pred_time'] = end - start\n",
    "            \n",
    "    # Compute RMSE on the training set\n",
    "    results['rmse_train'] = mean_squared_error(y_train, predictions_train) ** 0.5\n",
    "        \n",
    "    # Compute accuracy on test set\n",
    "    results['rmse_test'] = mean_squared_error(y_test, predictions_test) ** 0.5\n",
    "\n",
    "    sample_size = X_train.shape[0]\n",
    "    \n",
    "    # Success\n",
    "    print(\"{} trained on {} samples.\".format(learner.__class__.__name__, sample_size))\n",
    "        \n",
    "    # Return the results\n",
    "    return results"
   ]
  },
  {
   "cell_type": "code",
   "execution_count": 79,
   "metadata": {},
   "outputs": [
    {
     "name": "stdout",
     "output_type": "stream",
     "text": [
      "LinearRegression trained on 161533 samples.\n",
      "AdaBoostRegressor trained on 161533 samples.\n",
      "GradientBoostingRegressor trained on 161533 samples.\n"
     ]
    }
   ],
   "source": [
    "# Initialize the three models\n",
    "reg_A = LinearRegression()\n",
    "reg_B = AdaBoostRegressor(random_state=4)\n",
    "reg_C = GradientBoostingRegressor(random_state=5)\n",
    "\n",
    "# Collect results on the learners\n",
    "results = {}\n",
    "for reg in [reg_A, reg_B, reg_C]:\n",
    "    reg_name = reg.__class__.__name__\n",
    "    results[reg_name] = train_predict(reg, X_train, y_train, X_test, y_test)"
   ]
  },
  {
   "cell_type": "code",
   "execution_count": 99,
   "metadata": {},
   "outputs": [
    {
     "data": {
      "text/html": [
       "<div>\n",
       "<style scoped>\n",
       "    .dataframe tbody tr th:only-of-type {\n",
       "        vertical-align: middle;\n",
       "    }\n",
       "\n",
       "    .dataframe tbody tr th {\n",
       "        vertical-align: top;\n",
       "    }\n",
       "\n",
       "    .dataframe thead th {\n",
       "        text-align: right;\n",
       "    }\n",
       "</style>\n",
       "<table border=\"1\" class=\"dataframe\">\n",
       "  <thead>\n",
       "    <tr style=\"text-align: right;\">\n",
       "      <th></th>\n",
       "      <th>AdaBoostRegressor</th>\n",
       "      <th>GradientBoostingRegressor</th>\n",
       "      <th>LinearRegression</th>\n",
       "    </tr>\n",
       "  </thead>\n",
       "  <tbody>\n",
       "    <tr>\n",
       "      <th>pred_time</th>\n",
       "      <td>0.610593</td>\n",
       "      <td>0.619945</td>\n",
       "      <td>0.073563</td>\n",
       "    </tr>\n",
       "    <tr>\n",
       "      <th>rmse_test</th>\n",
       "      <td>4.511252</td>\n",
       "      <td>2.143555</td>\n",
       "      <td>2.189082</td>\n",
       "    </tr>\n",
       "    <tr>\n",
       "      <th>rmse_train</th>\n",
       "      <td>4.511780</td>\n",
       "      <td>2.139898</td>\n",
       "      <td>2.196039</td>\n",
       "    </tr>\n",
       "    <tr>\n",
       "      <th>train_time</th>\n",
       "      <td>34.228163</td>\n",
       "      <td>95.940273</td>\n",
       "      <td>0.995987</td>\n",
       "    </tr>\n",
       "  </tbody>\n",
       "</table>\n",
       "</div>"
      ],
      "text/plain": [
       "            AdaBoostRegressor  GradientBoostingRegressor  LinearRegression\n",
       "pred_time            0.610593                   0.619945          0.073563\n",
       "rmse_test            4.511252                   2.143555          2.189082\n",
       "rmse_train           4.511780                   2.139898          2.196039\n",
       "train_time          34.228163                  95.940273          0.995987"
      ]
     },
     "execution_count": 99,
     "metadata": {},
     "output_type": "execute_result"
    }
   ],
   "source": [
    "results_df = pd.DataFrame.from_dict(results)\n",
    "results_df"
   ]
  },
  {
   "cell_type": "code",
   "execution_count": 105,
   "metadata": {},
   "outputs": [
    {
     "data": {
      "text/plain": [
       "<matplotlib.axes._subplots.AxesSubplot at 0x1ab922ae10>"
      ]
     },
     "execution_count": 105,
     "metadata": {},
     "output_type": "execute_result"
    },
    {
     "data": {
      "image/png": "[encoded data removed]",
      "text/plain": [
       "<matplotlib.figure.Figure at 0x1ab85d6f60>"
      ]
     },
     "metadata": {},
     "output_type": "display_data"
    }
   ],
   "source": [
    "results_df.loc[['pred_time', 'rmse_test'],:].plot.bar()"
   ]
  },
  {
   "cell_type": "markdown",
   "metadata": {},
   "source": [
    "### GridSearch on hyperparameters"
   ]
  },
  {
   "cell_type": "code",
   "execution_count": 110,
   "metadata": {},
   "outputs": [
    {
     "name": "stdout",
     "output_type": "stream",
     "text": [
      "Unoptimized model\n",
      "------\n",
      "RMSE on testing data: 2.1436\n",
      "\n",
      "Optimized Model\n",
      "------\n",
      "RMSE on testing data: 2.1444\n"
     ]
    }
   ],
   "source": [
    "from sklearn.model_selection import GridSearchCV\n",
    "from sklearn.metrics import make_scorer\n",
    "\n",
    "# Initialize the regressor\n",
    "reg = GradientBoostingRegressor(random_state=5)\n",
    "\n",
    "# GridSearch parameters\n",
    "parameters = {\n",
    "    'n_estimators': [100, 120],\n",
    "    'learning_rate': [.1, .5] \n",
    "}\n",
    "\n",
    "# Make a mean_squared_error scoring object using make_scorer()\n",
    "scorer = make_scorer(mean_squared_error)\n",
    "\n",
    "# Perform grid search on the regressor using 'scorer' as the scoring method using GridSearchCV()\n",
    "grid_obj = GridSearchCV(estimator=reg, param_grid=parameters, scoring=scorer)\n",
    "\n",
    "# Fit the grid search object to the training data and find the optimal parameters using fit()\n",
    "grid_fit = grid_obj.fit(X_train, y_train)\n",
    "\n",
    "# Get the estimator\n",
    "best_reg = grid_fit.best_estimator_\n",
    "\n",
    "# Make predictions using the unoptimized and model\n",
    "predictions = (reg.fit(X_train, y_train)).predict(X_test)\n",
    "best_predictions = best_reg.predict(X_test)\n",
    "\n",
    "# Report the before-and-afterscores\n",
    "print(\"Unoptimized model\\n------\")\n",
    "print(\"RMSE on testing data: {:.4f}\".format(mean_squared_error(y_test, predictions)**0.5))\n",
    "print(\"\\nOptimized Model\\n------\")\n",
    "print(\"RMSE on testing data: {:.4f}\".format(mean_squared_error(y_test, best_predictions)**0.5))"
   ]
  },
  {
   "cell_type": "code",
   "execution_count": 111,
   "metadata": {},
   "outputs": [
    {
     "data": {
      "text/plain": [
       "GradientBoostingRegressor(alpha=0.9, criterion='friedman_mse', init=None,\n",
       "             learning_rate=0.1, loss='ls', max_depth=3, max_features=None,\n",
       "             max_leaf_nodes=None, min_impurity_decrease=0.0,\n",
       "             min_impurity_split=None, min_samples_leaf=1,\n",
       "             min_samples_split=2, min_weight_fraction_leaf=0.0,\n",
       "             n_estimators=100, presort='auto', random_state=5,\n",
       "             subsample=1.0, verbose=0, warm_start=False)"
      ]
     },
     "execution_count": 111,
     "metadata": {},
     "output_type": "execute_result"
    }
   ],
   "source": [
    "reg"
   ]
  },
  {
   "cell_type": "code",
   "execution_count": 112,
   "metadata": {},
   "outputs": [
    {
     "data": {
      "text/plain": [
       "GradientBoostingRegressor(alpha=0.9, criterion='friedman_mse', init=None,\n",
       "             learning_rate=0.5, loss='ls', max_depth=3, max_features=None,\n",
       "             max_leaf_nodes=None, min_impurity_decrease=0.0,\n",
       "             min_impurity_split=None, min_samples_leaf=1,\n",
       "             min_samples_split=2, min_weight_fraction_leaf=0.0,\n",
       "             n_estimators=120, presort='auto', random_state=5,\n",
       "             subsample=1.0, verbose=0, warm_start=False)"
      ]
     },
     "execution_count": 112,
     "metadata": {},
     "output_type": "execute_result"
    }
   ],
   "source": [
    "best_reg"
   ]
  },
  {
   "cell_type": "code",
   "execution_count": 113,
   "metadata": {},
   "outputs": [
    {
     "name": "stdout",
     "output_type": "stream",
     "text": [
      "training rmse: 2.1284491241542534\n",
      "testing rmse: 2.138064757213247\n"
     ]
    }
   ],
   "source": [
    "# Hand tuned version 1\n",
    "reg = GradientBoostingRegressor(n_estimators=150, learning_rate=0.1,\n",
    "                                max_depth=3, random_state=0, loss='ls')\n",
    "\n",
    "reg.fit(X_train, y_train)\n",
    "\n",
    "predictions_train = reg.predict(X_train)\n",
    "\n",
    "predictions_test = reg.predict(X_test)\n",
    "\n",
    "rmse_train = mean_squared_error(y_train, predictions_train) ** 0.5\n",
    "\n",
    "rmse_test = mean_squared_error(y_test, predictions_test) ** 0.5\n",
    "\n",
    "print('training rmse:', rmse_train)\n",
    "print('testing rmse:', rmse_test)"
   ]
  },
  {
   "cell_type": "code",
   "execution_count": 114,
   "metadata": {},
   "outputs": [
    {
     "name": "stdout",
     "output_type": "stream",
     "text": [
      "training rmse: 2.1304752915930885\n",
      "testing rmse: 2.1386255765755786\n"
     ]
    }
   ],
   "source": [
    "# Hand tuned version 2\n",
    "reg = GradientBoostingRegressor(n_estimators=150, learning_rate=0.1,\n",
    "                                max_depth=3, min_samples_leaf = 2, random_state=0, loss='ls')\n",
    "\n",
    "reg.fit(X_train, y_train)\n",
    "\n",
    "predictions_train = reg.predict(X_train)\n",
    "\n",
    "predictions_test = reg.predict(X_test)\n",
    "\n",
    "rmse_train = mean_squared_error(y_train, predictions_train) ** 0.5\n",
    "\n",
    "rmse_test = mean_squared_error(y_test, predictions_test) ** 0.5\n",
    "\n",
    "print('training rmse:', rmse_train)\n",
    "print('testing rmse:', rmse_test)"
   ]
  },
  {
   "cell_type": "markdown",
   "metadata": {},
   "source": [
    "#### Results:\n",
    "\n",
    "|     Metric     | Benchmark         | Unoptimized Model | Optimized Model |\n",
    "| :------------: | :---------------: | :-------------:   | :-------------: | \n",
    "| RMSE           | 2.2487            |  2.1436           | 2.1381          |\n"
   ]
  },
  {
   "cell_type": "code",
   "execution_count": 135,
   "metadata": {},
   "outputs": [],
   "source": [
    "# Cross Validation\n",
    "from sklearn.model_selection import ShuffleSplit\n",
    "from sklearn.model_selection import cross_val_score\n",
    "reg = GradientBoostingRegressor(n_estimators=150, learning_rate=0.1,\n",
    "                                max_depth=3, random_state=0, loss='ls')\n",
    "\n",
    "cv = ShuffleSplit(n_splits=3, test_size=0.2, random_state=0)\n",
    "scores = cross_val_score(reg, X_train, y_train, cv=cv, scoring='neg_mean_squared_error')"
   ]
  },
  {
   "cell_type": "code",
   "execution_count": 138,
   "metadata": {},
   "outputs": [
    {
     "name": "stdout",
     "output_type": "stream",
     "text": [
      "RMSE for 3-fold cv: [2.16762    2.11905169 2.12290882]\n",
      "Average RMSE for 3-fold cv: 2.136526837978261\n"
     ]
    }
   ],
   "source": [
    "print('RMSE for 3-fold cv:', (-scores) ** 0.5)\n",
    "print('Average RMSE for 3-fold cv:', sum((-scores) ** 0.5)/3)"
   ]
  },
  {
   "cell_type": "code",
   "execution_count": null,
   "metadata": {},
   "outputs": [],
   "source": [
    "# For Kaggle submissions - Naive Model\n",
    "\n",
    "# Assigned the average of mean and median from training set to actual test set and uploaded through Kaggle API\n",
    "# to the competition; Received a score of 3.935\n",
    "# test_naive = test.copy()\n",
    "# test_naive.loc[:, 'target'] = (train_clean['target'].mean() + train_clean['target'].median()) / 2\n",
    "# test_naive[['card_id', 'target']].to_csv(r'submission_naive.csv', index=False)\n",
    "# test_naive[['card_id', 'target']].head()"
   ]
  },
  {
   "cell_type": "code",
   "execution_count": 117,
   "metadata": {},
   "outputs": [],
   "source": [
    "# For Kaggle submissions - Actual Models\n",
    "test_clean = test_clean.fillna(0)\n",
    "test_features = test_clean[features_col].values\n",
    "predictions_true_test = reg.predict(test_features) # Predict target score\n",
    "true_test_result = pd.Series(predictions_true_test, index=test_clean['card_id'].values) # Format series\n",
    "true_test_result_df = pd.DataFrame({'card_id':true_test_result.index, 'target':true_test_result.values}) # Format df"
   ]
  },
  {
   "cell_type": "code",
   "execution_count": 118,
   "metadata": {},
   "outputs": [
    {
     "name": "stdout",
     "output_type": "stream",
     "text": [
      "Distribution of loyalty scores\n"
     ]
    },
    {
     "data": {
      "text/plain": [
       "<matplotlib.legend.Legend at 0x1a8f866ac8>"
      ]
     },
     "execution_count": 118,
     "metadata": {},
     "output_type": "execute_result"
    },
    {
     "data": {
      "image/png": "[encoded data removed]",
      "text/plain": [
       "<matplotlib.figure.Figure at 0x1abddc1f98>"
      ]
     },
     "metadata": {},
     "output_type": "display_data"
    }
   ],
   "source": [
    "print('Distribution of loyalty scores')\n",
    "y_train.hist(bins=25)\n",
    "true_test_result_df['target'].hist(bins=25) # Visualize distribution of target score\n",
    "ax=plt.gca()\n",
    "ax.legend(('train_dataset', 'final_test'))"
   ]
  },
  {
   "cell_type": "code",
   "execution_count": 119,
   "metadata": {},
   "outputs": [],
   "source": [
    "# Save to file\n",
    "# true_test_result_df.to_csv(r'submission1_adaboost.csv', index=False)\n",
    "# true_test_result_df.to_csv(r'submission2_gradientboost.csv', index=False)\n",
    "# true_test_result_df.to_csv(r'submission3_gradientboost2.csv', index=False)"
   ]
  }
 ],
 "metadata": {
  "kernelspec": {
   "display_name": "Python 3",
   "language": "python",
   "name": "python3"
  }
 },
 "nbformat": 4,
 "nbformat_minor": 2
}
